{
 "cells": [
  {
   "cell_type": "markdown",
   "metadata": {},
   "source": [
    "### Name: Praveen Kumar Sahu\n",
    "### Roll No: 2018IMT-070\n",
    "### Course: Machine Learning Lab\n",
    "### Course Code: ITIT - 4107\n",
    "### Deadline : 25 October 2021\n",
    "### Link: https://github.com/povinsahu1909/ITIT-4103-2021/tree/master/Assignment-5"
   ]
  },
  {
   "cell_type": "markdown",
   "metadata": {},
   "source": [
    "## Problem Statement\n",
    "\n",
    "Given iris dataset (https://archive.ics.uci.edu/ml/datasets/iris) with 3 classes and 4 features such as sepals/petals, Length, width etc. for each flower in the dataset. There are 50 instances per class in the dataset. Use Bayes Classifier as your base classifier model. Use 60% samples for training and 40% samples for testing.\n",
    "\n",
    "1. Perform feature selection on this dataset using forward search.\n",
    "\n",
    "2. As you select features, until 2 features, plot your right and incorrect classification instances for all classes.\n",
    "\n",
    "3. For all the set of features selected, plot the accuracies to show the best subset of selected features"
   ]
  },
  {
   "cell_type": "markdown",
   "metadata": {},
   "source": [
    "## Importing libraries"
   ]
  },
  {
   "cell_type": "code",
   "execution_count": 1,
   "metadata": {},
   "outputs": [],
   "source": [
    "import numpy as np\n",
    "import scipy as sp\n",
    "import pandas as pd\n",
    "from sklearn.model_selection import train_test_split\n",
    "from sklearn.preprocessing import LabelEncoder\n",
    "from matplotlib import pyplot as plt"
   ]
  },
  {
   "cell_type": "markdown",
   "metadata": {},
   "source": [
    "## Loading Data"
   ]
  },
  {
   "cell_type": "code",
   "execution_count": 2,
   "metadata": {},
   "outputs": [
    {
     "data": {
      "text/html": [
       "<div>\n",
       "<style scoped>\n",
       "    .dataframe tbody tr th:only-of-type {\n",
       "        vertical-align: middle;\n",
       "    }\n",
       "\n",
       "    .dataframe tbody tr th {\n",
       "        vertical-align: top;\n",
       "    }\n",
       "\n",
       "    .dataframe thead th {\n",
       "        text-align: right;\n",
       "    }\n",
       "</style>\n",
       "<table border=\"1\" class=\"dataframe\">\n",
       "  <thead>\n",
       "    <tr style=\"text-align: right;\">\n",
       "      <th></th>\n",
       "      <th>sepal_length</th>\n",
       "      <th>sepal_width</th>\n",
       "      <th>petal_length</th>\n",
       "      <th>petal_width</th>\n",
       "      <th>species</th>\n",
       "    </tr>\n",
       "  </thead>\n",
       "  <tbody>\n",
       "    <tr>\n",
       "      <th>0</th>\n",
       "      <td>5.1</td>\n",
       "      <td>3.5</td>\n",
       "      <td>1.4</td>\n",
       "      <td>0.2</td>\n",
       "      <td>Iris-setosa</td>\n",
       "    </tr>\n",
       "    <tr>\n",
       "      <th>1</th>\n",
       "      <td>4.9</td>\n",
       "      <td>3.0</td>\n",
       "      <td>1.4</td>\n",
       "      <td>0.2</td>\n",
       "      <td>Iris-setosa</td>\n",
       "    </tr>\n",
       "    <tr>\n",
       "      <th>2</th>\n",
       "      <td>4.7</td>\n",
       "      <td>3.2</td>\n",
       "      <td>1.3</td>\n",
       "      <td>0.2</td>\n",
       "      <td>Iris-setosa</td>\n",
       "    </tr>\n",
       "    <tr>\n",
       "      <th>3</th>\n",
       "      <td>4.6</td>\n",
       "      <td>3.1</td>\n",
       "      <td>1.5</td>\n",
       "      <td>0.2</td>\n",
       "      <td>Iris-setosa</td>\n",
       "    </tr>\n",
       "    <tr>\n",
       "      <th>4</th>\n",
       "      <td>5.0</td>\n",
       "      <td>3.6</td>\n",
       "      <td>1.4</td>\n",
       "      <td>0.2</td>\n",
       "      <td>Iris-setosa</td>\n",
       "    </tr>\n",
       "  </tbody>\n",
       "</table>\n",
       "</div>"
      ],
      "text/plain": [
       "   sepal_length  sepal_width  petal_length  petal_width      species\n",
       "0           5.1          3.5           1.4          0.2  Iris-setosa\n",
       "1           4.9          3.0           1.4          0.2  Iris-setosa\n",
       "2           4.7          3.2           1.3          0.2  Iris-setosa\n",
       "3           4.6          3.1           1.5          0.2  Iris-setosa\n",
       "4           5.0          3.6           1.4          0.2  Iris-setosa"
      ]
     },
     "execution_count": 2,
     "metadata": {},
     "output_type": "execute_result"
    }
   ],
   "source": [
    "data_url = 'https://archive.ics.uci.edu/ml/machine-learning-databases/iris/iris.data'\n",
    "df = pd.read_csv(data_url, header = None)\n",
    "df.columns = ['sepal_length', 'sepal_width', 'petal_length', 'petal_width', 'species']\n",
    "X = df.iloc[:, :4].values\n",
    "y = df['species'].values\n",
    "df.head()"
   ]
  },
  {
   "cell_type": "markdown",
   "metadata": {},
   "source": [
    "Encoding the species type to integers values"
   ]
  },
  {
   "cell_type": "code",
   "execution_count": 3,
   "metadata": {},
   "outputs": [
    {
     "name": "stdout",
     "output_type": "stream",
     "text": [
      "['Iris-setosa' 'Iris-versicolor' 'Iris-virginica']\n"
     ]
    }
   ],
   "source": [
    "le = LabelEncoder()\n",
    "le.fit(df.species)\n",
    "y = le.transform(df.species)\n",
    "print(le.classes_)"
   ]
  },
  {
   "cell_type": "code",
   "execution_count": 4,
   "metadata": {},
   "outputs": [],
   "source": [
    "x_train, x_test, y_train, y_test = train_test_split(X, y, test_size=0.4, random_state=0)"
   ]
  },
  {
   "cell_type": "markdown",
   "metadata": {},
   "source": [
    "## Implementing bayesian model"
   ]
  },
  {
   "cell_type": "code",
   "execution_count": 13,
   "metadata": {},
   "outputs": [],
   "source": [
    "from sklearn.naive_bayes import GaussianNB\n",
    "from sklearn.metrics import confusion_matrix, accuracy_score\n",
    "import seaborn as sns\n",
    "classifier = GaussianNB()"
   ]
  },
  {
   "cell_type": "markdown",
   "metadata": {},
   "source": [
    "### Here each feature was taken individually for the model evaluation \n",
    "\n",
    "#### Training model using sepal_length feature and target variable is used"
   ]
  },
  {
   "cell_type": "code",
   "execution_count": 6,
   "metadata": {},
   "outputs": [
    {
     "name": "stdout",
     "output_type": "stream",
     "text": [
      "Accuracy when sepal length is chosen :  0.6333333333333333\n",
      "==========\n"
     ]
    },
    {
     "data": {
      "image/png": "[encoded data removed]",
      "text/plain": [
       "<Figure size 432x288 with 2 Axes>"
      ]
     },
     "metadata": {
      "needs_background": "light"
     },
     "output_type": "display_data"
    }
   ],
   "source": [
    "classifier.fit(x_train[:, 0].reshape(-1, 1), y_train)\n",
    "y_pred = classifier.predict(x_test[:, 0].reshape(-1,1))\n",
    "cm = confusion_matrix(y_test, y_pred)\n",
    "print (\"Accuracy when sepal length is chosen : \", accuracy_score(y_test, y_pred))\n",
    "fig = plt.figure()\n",
    "sns.heatmap(cm, annot=True, cmap=\"YlGnBu\")\n",
    "plt.plot()\n",
    "print('=='*5)"
   ]
  },
  {
   "cell_type": "markdown",
   "metadata": {},
   "source": [
    "#### Training model using sepal_width feature and target variable is used\n"
   ]
  },
  {
   "cell_type": "code",
   "execution_count": 7,
   "metadata": {},
   "outputs": [
    {
     "name": "stdout",
     "output_type": "stream",
     "text": [
      "Accuracy when sepal width is chosen :  0.5833333333333334\n",
      "==========\n"
     ]
    },
    {
     "data": {
      "image/png": "[encoded data removed]",
      "text/plain": [
       "<Figure size 432x288 with 2 Axes>"
      ]
     },
     "metadata": {
      "needs_background": "light"
     },
     "output_type": "display_data"
    }
   ],
   "source": [
    "classifier.fit(x_train[:, 1].reshape(-1, 1), y_train)\n",
    "y_pred = classifier.predict(x_test[:, 1].reshape(-1,1))\n",
    "cm = confusion_matrix(y_test, y_pred)\n",
    "print (\"Accuracy when sepal width is chosen : \", accuracy_score(y_test, y_pred))\n",
    "sns.heatmap(cm, annot=True, cmap=\"YlGnBu\")\n",
    "print('=='*5)"
   ]
  },
  {
   "cell_type": "markdown",
   "metadata": {},
   "source": [
    "#### Training model using petal_length feature and target variable is used\n"
   ]
  },
  {
   "cell_type": "code",
   "execution_count": 8,
   "metadata": {},
   "outputs": [
    {
     "name": "stdout",
     "output_type": "stream",
     "text": [
      "Accuracy when petal length is chosen :  0.9\n",
      "==========\n"
     ]
    },
    {
     "data": {
      "image/png": "[encoded data removed]",
      "text/plain": [
       "<Figure size 432x288 with 2 Axes>"
      ]
     },
     "metadata": {
      "needs_background": "light"
     },
     "output_type": "display_data"
    }
   ],
   "source": [
    "classifier.fit(x_train[:, 2].reshape(-1, 1), y_train)\n",
    "y_pred = classifier.predict(x_test[:, 2].reshape(-1,1))\n",
    "cm = confusion_matrix(y_test, y_pred)\n",
    "print (\"Accuracy when petal length is chosen : \", accuracy_score(y_test, y_pred))\n",
    "sns.heatmap(cm, annot=True, cmap=\"YlGnBu\")\n",
    "print('=='*5)"
   ]
  },
  {
   "cell_type": "markdown",
   "metadata": {},
   "source": [
    "#### Training model using petal_width feature and target variable is used\n"
   ]
  },
  {
   "cell_type": "code",
   "execution_count": 9,
   "metadata": {
    "scrolled": false
   },
   "outputs": [
    {
     "name": "stdout",
     "output_type": "stream",
     "text": [
      "Accuracy when petal width is chosen :  0.95\n",
      "==========\n"
     ]
    },
    {
     "data": {
      "image/png": "[encoded data removed]",
      "text/plain": [
       "<Figure size 432x288 with 2 Axes>"
      ]
     },
     "metadata": {
      "needs_background": "light"
     },
     "output_type": "display_data"
    }
   ],
   "source": [
    "classifier.fit(x_train[:, 3].reshape(-1, 1), y_train)\n",
    "y_pred = classifier.predict(x_test[:, 3].reshape(-1,1))\n",
    "cm = confusion_matrix(y_test, y_pred)\n",
    "print (\"Accuracy when petal width is chosen : \", accuracy_score(y_test, y_pred))\n",
    "sns.heatmap(cm, annot=True, cmap=\"YlGnBu\")\n",
    "print('=='*5)"
   ]
  },
  {
   "cell_type": "markdown",
   "metadata": {},
   "source": [
    "### Multiple features was taken into consideration\n",
    "Here we can see that the petal length has the highest accuracy so we will take <b>petal width</b> as one of the feature for the model.\n",
    "\n",
    "We will find other feature by trying different combination of the feature with petal width as one of the feature."
   ]
  },
  {
   "cell_type": "markdown",
   "metadata": {},
   "source": [
    "#### Training model using petal_width and sepal_length as input feature and target variable is used\n"
   ]
  },
  {
   "cell_type": "code",
   "execution_count": 10,
   "metadata": {
    "scrolled": false
   },
   "outputs": [
    {
     "name": "stdout",
     "output_type": "stream",
     "text": [
      "Accuracy when petal_width and sepal_length is chosen :  0.9333333333333333\n",
      "==========\n"
     ]
    },
    {
     "data": {
      "image/png": "[encoded data removed]",
      "text/plain": [
       "<Figure size 432x288 with 2 Axes>"
      ]
     },
     "metadata": {
      "needs_background": "light"
     },
     "output_type": "display_data"
    }
   ],
   "source": [
    "x_input1 = np.array([[inp[0], inp[3]] for inp in x_train])\n",
    "x_te = np.array([[inp[0], inp[3]] for inp in x_test])\n",
    "classifier.fit(x_input1, y_train)\n",
    "y_pred = classifier.predict(x_te)\n",
    "cm = confusion_matrix(y_test, y_pred)\n",
    "print (\"Accuracy when petal_width and sepal_length is chosen : \", accuracy_score(y_test, y_pred))\n",
    "sns.heatmap(cm, annot=True, cmap=\"YlGnBu\")\n",
    "print('=='*5)"
   ]
  },
  {
   "cell_type": "markdown",
   "metadata": {},
   "source": [
    "#### Training model using petal_width and sepal_width as input feature and target variable is used\n"
   ]
  },
  {
   "cell_type": "code",
   "execution_count": 11,
   "metadata": {},
   "outputs": [
    {
     "name": "stdout",
     "output_type": "stream",
     "text": [
      "Accuracy when petal_width and sepal_width is chosen :  0.9333333333333333\n",
      "==========\n"
     ]
    },
    {
     "data": {
      "image/png": "[encoded data removed]",
      "text/plain": [
       "<Figure size 432x288 with 2 Axes>"
      ]
     },
     "metadata": {
      "needs_background": "light"
     },
     "output_type": "display_data"
    }
   ],
   "source": [
    "x_input2 = np.array([[inp[1], inp[3]] for inp in x_train])\n",
    "x_te = np.array([[inp[1], inp[3]] for inp in x_test])\n",
    "classifier.fit(x_input2, y_train)\n",
    "y_pred = classifier.predict(x_te)\n",
    "cm = confusion_matrix(y_test, y_pred)\n",
    "print (\"Accuracy when petal_width and sepal_width is chosen : \", accuracy_score(y_test, y_pred))\n",
    "sns.heatmap(cm, annot=True, cmap=\"YlGnBu\")\n",
    "print('=='*5)"
   ]
  },
  {
   "cell_type": "markdown",
   "metadata": {},
   "source": [
    "#### Training model using petal_width and petal_length as input feature and target variable is used\n"
   ]
  },
  {
   "cell_type": "code",
   "execution_count": 12,
   "metadata": {
    "scrolled": false
   },
   "outputs": [
    {
     "name": "stdout",
     "output_type": "stream",
     "text": [
      "Accuracy when petal_width and petal_length is chosen :  0.9333333333333333\n",
      "==========\n"
     ]
    },
    {
     "data": {
      "image/png": "[encoded data removed]",
      "text/plain": [
       "<Figure size 432x288 with 2 Axes>"
      ]
     },
     "metadata": {
      "needs_background": "light"
     },
     "output_type": "display_data"
    }
   ],
   "source": [
    "x_input3 = np.array([[inp[2], inp[3]] for inp in x_train])\n",
    "x_te = np.array([[inp[2], inp[3]] for inp in x_test])\n",
    "classifier.fit(x_input3, y_train)\n",
    "y_pred = classifier.predict(x_te)\n",
    "cm = confusion_matrix(y_test, y_pred)\n",
    "print (\"Accuracy when petal_width and petal_length is chosen : \", accuracy_score(y_test, y_pred))\n",
    "sns.heatmap(cm, annot=True, cmap=\"YlGnBu\")\n",
    "print('=='*5)\n"
   ]
  }
 ],
 "metadata": {
  "kernelspec": {
   "display_name": "Python 3",
   "language": "python",
   "name": "python3"
  },
  "language_info": {
   "codemirror_mode": {
    "name": "ipython",
    "version": 3
   },
   "file_extension": ".py",
   "mimetype": "text/x-python",
   "name": "python",
   "nbconvert_exporter": "python",
   "pygments_lexer": "ipython3",
   "version": "3.7.3"
  }
 },
 "nbformat": 4,
 "nbformat_minor": 2
}
